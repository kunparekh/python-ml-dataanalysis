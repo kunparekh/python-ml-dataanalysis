{
 "cells": [
  {
   "cell_type": "markdown",
   "metadata": {},
   "source": [
    "# Customer Segmentation Using k-Means\n",
    "* We want to look at data on closed deals and determine if we can group the customer base based on similar characteristics (size of customer, historical purchases, recency of purchase, deal size, geography, etc.)"
   ]
  },
  {
   "cell_type": "code",
   "execution_count": 1,
   "metadata": {},
   "outputs": [],
   "source": [
    "import warnings\n",
    "warnings.filterwarnings('ignore')\n",
    "import pandas as pd\n",
    "import seaborn as sns\n",
    "import numpy as np\n",
    "pd.set_option('display.max_rows', None)\n",
    "pd.set_option('display.max_columns', None)\n",
    "pd.set_option('display.width', 200)\n",
    "import matplotlib.pyplot as plt\n",
    "from sklearn.cluster import KMeans\n",
    "from scipy import stats\n",
    "from sklearn.decomposition import PCA\n",
    "from sklearn.preprocessing import MinMaxScaler"
   ]
  },
  {
   "cell_type": "code",
   "execution_count": 2,
   "metadata": {},
   "outputs": [
    {
     "data": {
      "text/html": [
       "<div>\n",
       "<style scoped>\n",
       "    .dataframe tbody tr th:only-of-type {\n",
       "        vertical-align: middle;\n",
       "    }\n",
       "\n",
       "    .dataframe tbody tr th {\n",
       "        vertical-align: top;\n",
       "    }\n",
       "\n",
       "    .dataframe thead th {\n",
       "        text-align: right;\n",
       "    }\n",
       "</style>\n",
       "<table border=\"1\" class=\"dataframe\">\n",
       "  <thead>\n",
       "    <tr style=\"text-align: right;\">\n",
       "      <th></th>\n",
       "      <th>OpportunityId</th>\n",
       "      <th>Theater</th>\n",
       "      <th>Segment</th>\n",
       "      <th>Direct</th>\n",
       "      <th>MQL</th>\n",
       "      <th>Employee</th>\n",
       "      <th>AnnualRevenue</th>\n",
       "      <th>SoftwareAmount</th>\n",
       "      <th>Push</th>\n",
       "      <th>NewOrExisting</th>\n",
       "      <th>Tickets_6Mo</th>\n",
       "      <th>TotalClosedLostAmount_24Mo</th>\n",
       "      <th>TotalClosedWonAmount_24Mo</th>\n",
       "      <th>TotalClosedWonAmount_6Mo</th>\n",
       "      <th>TotalClosedLostAmount_6Mo</th>\n",
       "      <th>WinRate_24Mo</th>\n",
       "    </tr>\n",
       "  </thead>\n",
       "  <tbody>\n",
       "    <tr>\n",
       "      <th>0</th>\n",
       "      <td>450929</td>\n",
       "      <td>EMEA</td>\n",
       "      <td>SMB</td>\n",
       "      <td>N</td>\n",
       "      <td>Channel</td>\n",
       "      <td>40</td>\n",
       "      <td>0.0</td>\n",
       "      <td>3528.24</td>\n",
       "      <td>1</td>\n",
       "      <td>Existing</td>\n",
       "      <td>0</td>\n",
       "      <td>4237</td>\n",
       "      <td>80354</td>\n",
       "      <td>15211</td>\n",
       "      <td>0</td>\n",
       "      <td>0.92</td>\n",
       "    </tr>\n",
       "    <tr>\n",
       "      <th>1</th>\n",
       "      <td>95384</td>\n",
       "      <td>EMEA</td>\n",
       "      <td>SMB</td>\n",
       "      <td>N</td>\n",
       "      <td>Channel</td>\n",
       "      <td>40</td>\n",
       "      <td>0.0</td>\n",
       "      <td>3699.54</td>\n",
       "      <td>2</td>\n",
       "      <td>Existing</td>\n",
       "      <td>0</td>\n",
       "      <td>4237</td>\n",
       "      <td>81598</td>\n",
       "      <td>14785</td>\n",
       "      <td>0</td>\n",
       "      <td>0.92</td>\n",
       "    </tr>\n",
       "    <tr>\n",
       "      <th>2</th>\n",
       "      <td>344340</td>\n",
       "      <td>EMEA</td>\n",
       "      <td>SMB</td>\n",
       "      <td>N</td>\n",
       "      <td>Channel</td>\n",
       "      <td>40</td>\n",
       "      <td>0.0</td>\n",
       "      <td>3573.99</td>\n",
       "      <td>1</td>\n",
       "      <td>Existing</td>\n",
       "      <td>0</td>\n",
       "      <td>2118</td>\n",
       "      <td>83035</td>\n",
       "      <td>18164</td>\n",
       "      <td>0</td>\n",
       "      <td>0.96</td>\n",
       "    </tr>\n",
       "    <tr>\n",
       "      <th>3</th>\n",
       "      <td>359139</td>\n",
       "      <td>EMEA</td>\n",
       "      <td>SMB</td>\n",
       "      <td>N</td>\n",
       "      <td>Channel</td>\n",
       "      <td>40</td>\n",
       "      <td>0.0</td>\n",
       "      <td>3214.36</td>\n",
       "      <td>1</td>\n",
       "      <td>Existing</td>\n",
       "      <td>0</td>\n",
       "      <td>0</td>\n",
       "      <td>86609</td>\n",
       "      <td>18016</td>\n",
       "      <td>0</td>\n",
       "      <td>1.00</td>\n",
       "    </tr>\n",
       "    <tr>\n",
       "      <th>4</th>\n",
       "      <td>73204</td>\n",
       "      <td>EMEA</td>\n",
       "      <td>SMB</td>\n",
       "      <td>N</td>\n",
       "      <td>Channel</td>\n",
       "      <td>40</td>\n",
       "      <td>0.0</td>\n",
       "      <td>3400.15</td>\n",
       "      <td>1</td>\n",
       "      <td>Existing</td>\n",
       "      <td>0</td>\n",
       "      <td>0</td>\n",
       "      <td>84460</td>\n",
       "      <td>17591</td>\n",
       "      <td>0</td>\n",
       "      <td>1.00</td>\n",
       "    </tr>\n",
       "  </tbody>\n",
       "</table>\n",
       "</div>"
      ],
      "text/plain": [
       "   OpportunityId Theater Segment Direct      MQL  Employee  AnnualRevenue  SoftwareAmount  Push NewOrExisting  Tickets_6Mo  TotalClosedLostAmount_24Mo  TotalClosedWonAmount_24Mo  \\\n",
       "0         450929    EMEA     SMB      N  Channel        40            0.0         3528.24     1      Existing            0                        4237                      80354   \n",
       "1          95384    EMEA     SMB      N  Channel        40            0.0         3699.54     2      Existing            0                        4237                      81598   \n",
       "2         344340    EMEA     SMB      N  Channel        40            0.0         3573.99     1      Existing            0                        2118                      83035   \n",
       "3         359139    EMEA     SMB      N  Channel        40            0.0         3214.36     1      Existing            0                           0                      86609   \n",
       "4          73204    EMEA     SMB      N  Channel        40            0.0         3400.15     1      Existing            0                           0                      84460   \n",
       "\n",
       "   TotalClosedWonAmount_6Mo  TotalClosedLostAmount_6Mo  WinRate_24Mo  \n",
       "0                     15211                          0          0.92  \n",
       "1                     14785                          0          0.92  \n",
       "2                     18164                          0          0.96  \n",
       "3                     18016                          0          1.00  \n",
       "4                     17591                          0          1.00  "
      ]
     },
     "execution_count": 2,
     "metadata": {},
     "output_type": "execute_result"
    }
   ],
   "source": [
    "data = pd.read_csv('C:/Users/segmentation_data.csv')\n",
    "data.head(n=5)"
   ]
  },
  {
   "cell_type": "code",
   "execution_count": 3,
   "metadata": {},
   "outputs": [
    {
     "data": {
      "text/plain": [
       "OpportunityId                   int64\n",
       "Theater                        object\n",
       "Segment                        object\n",
       "Direct                         object\n",
       "MQL                            object\n",
       "Employee                        int64\n",
       "AnnualRevenue                 float64\n",
       "SoftwareAmount                float64\n",
       "Push                            int64\n",
       "NewOrExisting                  object\n",
       "Tickets_6Mo                     int64\n",
       "TotalClosedLostAmount_24Mo      int64\n",
       "TotalClosedWonAmount_24Mo       int64\n",
       "TotalClosedWonAmount_6Mo        int64\n",
       "TotalClosedLostAmount_6Mo       int64\n",
       "WinRate_24Mo                  float64\n",
       "dtype: object"
      ]
     },
     "execution_count": 3,
     "metadata": {},
     "output_type": "execute_result"
    }
   ],
   "source": [
    "data.dtypes"
   ]
  },
  {
   "cell_type": "code",
   "execution_count": 4,
   "metadata": {},
   "outputs": [
    {
     "data": {
      "text/plain": [
       "OpportunityId                 0\n",
       "Theater                       0\n",
       "Segment                       0\n",
       "Direct                        0\n",
       "MQL                           0\n",
       "Employee                      0\n",
       "AnnualRevenue                 0\n",
       "SoftwareAmount                0\n",
       "Push                          0\n",
       "NewOrExisting                 0\n",
       "Tickets_6Mo                   0\n",
       "TotalClosedLostAmount_24Mo    0\n",
       "TotalClosedWonAmount_24Mo     0\n",
       "TotalClosedWonAmount_6Mo      0\n",
       "TotalClosedLostAmount_6Mo     0\n",
       "WinRate_24Mo                  0\n",
       "dtype: int64"
      ]
     },
     "execution_count": 4,
     "metadata": {},
     "output_type": "execute_result"
    }
   ],
   "source": [
    "data.isnull().sum().sort_values()"
   ]
  },
  {
   "cell_type": "code",
   "execution_count": 8,
   "metadata": {},
   "outputs": [
    {
     "data": {
      "text/plain": [
       "<Figure size 432x288 with 0 Axes>"
      ]
     },
     "metadata": {},
     "output_type": "display_data"
    },
    {
     "data": {
      "image/png": "[encoded data removed]",
      "text/plain": [
       "<Figure size 1440x360 with 6 Axes>"
      ]
     },
     "metadata": {
      "needs_background": "light"
     },
     "output_type": "display_data"
    }
   ],
   "source": [
    "plt.clf()\n",
    "df_num_cols =  ['Push' , 'TotalClosedLostAmount_24Mo', 'TotalClosedWonAmount_24Mo', 'AnnualRevenue', 'Employee', 'SoftwareAmount']\n",
    "fig, axes = plt.subplots(1, len(df_num_cols), sharey=False, figsize=(20,5))\n",
    "for i, col in enumerate(df_num_cols):\n",
    "  a = data.boxplot(col, ax=axes.flatten()[i])\n",
    "plt.tight_layout()\n",
    "plt.show()"
   ]
  },
  {
   "cell_type": "code",
   "execution_count": 10,
   "metadata": {},
   "outputs": [
    {
     "data": {
      "text/html": [
       "<div>\n",
       "<style scoped>\n",
       "    .dataframe tbody tr th:only-of-type {\n",
       "        vertical-align: middle;\n",
       "    }\n",
       "\n",
       "    .dataframe tbody tr th {\n",
       "        vertical-align: top;\n",
       "    }\n",
       "\n",
       "    .dataframe thead th {\n",
       "        text-align: right;\n",
       "    }\n",
       "</style>\n",
       "<table border=\"1\" class=\"dataframe\">\n",
       "  <thead>\n",
       "    <tr style=\"text-align: right;\">\n",
       "      <th></th>\n",
       "      <th>OpportunityId</th>\n",
       "      <th>Employee</th>\n",
       "      <th>AnnualRevenue</th>\n",
       "      <th>SoftwareAmount</th>\n",
       "      <th>Push</th>\n",
       "      <th>Tickets_6Mo</th>\n",
       "      <th>TotalClosedLostAmount_24Mo</th>\n",
       "      <th>TotalClosedWonAmount_24Mo</th>\n",
       "      <th>TotalClosedWonAmount_6Mo</th>\n",
       "      <th>TotalClosedLostAmount_6Mo</th>\n",
       "      <th>WinRate_24Mo</th>\n",
       "    </tr>\n",
       "  </thead>\n",
       "  <tbody>\n",
       "    <tr>\n",
       "      <th>count</th>\n",
       "      <td>89059.0</td>\n",
       "      <td>89059.0</td>\n",
       "      <td>8.905900e+04</td>\n",
       "      <td>89059.0</td>\n",
       "      <td>89059.0</td>\n",
       "      <td>89059.0</td>\n",
       "      <td>89059.0</td>\n",
       "      <td>89059.0</td>\n",
       "      <td>89059.0</td>\n",
       "      <td>89059.0</td>\n",
       "      <td>89059.0</td>\n",
       "    </tr>\n",
       "    <tr>\n",
       "      <th>mean</th>\n",
       "      <td>250288.0</td>\n",
       "      <td>3855.0</td>\n",
       "      <td>1.602171e+09</td>\n",
       "      <td>31120.0</td>\n",
       "      <td>2.0</td>\n",
       "      <td>7.0</td>\n",
       "      <td>61131.0</td>\n",
       "      <td>73950.0</td>\n",
       "      <td>18440.0</td>\n",
       "      <td>18548.0</td>\n",
       "      <td>0.0</td>\n",
       "    </tr>\n",
       "    <tr>\n",
       "      <th>std</th>\n",
       "      <td>144587.0</td>\n",
       "      <td>24897.0</td>\n",
       "      <td>1.051139e+10</td>\n",
       "      <td>97459.0</td>\n",
       "      <td>3.0</td>\n",
       "      <td>21.0</td>\n",
       "      <td>394454.0</td>\n",
       "      <td>357902.0</td>\n",
       "      <td>109840.0</td>\n",
       "      <td>141597.0</td>\n",
       "      <td>0.0</td>\n",
       "    </tr>\n",
       "    <tr>\n",
       "      <th>min</th>\n",
       "      <td>12.0</td>\n",
       "      <td>0.0</td>\n",
       "      <td>-6.741528e+07</td>\n",
       "      <td>-88824.0</td>\n",
       "      <td>0.0</td>\n",
       "      <td>0.0</td>\n",
       "      <td>0.0</td>\n",
       "      <td>0.0</td>\n",
       "      <td>0.0</td>\n",
       "      <td>0.0</td>\n",
       "      <td>0.0</td>\n",
       "    </tr>\n",
       "    <tr>\n",
       "      <th>25%</th>\n",
       "      <td>125116.0</td>\n",
       "      <td>0.0</td>\n",
       "      <td>0.000000e+00</td>\n",
       "      <td>1762.0</td>\n",
       "      <td>0.0</td>\n",
       "      <td>0.0</td>\n",
       "      <td>0.0</td>\n",
       "      <td>0.0</td>\n",
       "      <td>0.0</td>\n",
       "      <td>0.0</td>\n",
       "      <td>0.0</td>\n",
       "    </tr>\n",
       "    <tr>\n",
       "      <th>50%</th>\n",
       "      <td>250410.0</td>\n",
       "      <td>100.0</td>\n",
       "      <td>1.390000e+07</td>\n",
       "      <td>8632.0</td>\n",
       "      <td>1.0</td>\n",
       "      <td>0.0</td>\n",
       "      <td>0.0</td>\n",
       "      <td>0.0</td>\n",
       "      <td>0.0</td>\n",
       "      <td>0.0</td>\n",
       "      <td>0.0</td>\n",
       "    </tr>\n",
       "    <tr>\n",
       "      <th>75%</th>\n",
       "      <td>376403.0</td>\n",
       "      <td>993.0</td>\n",
       "      <td>2.440000e+08</td>\n",
       "      <td>26000.0</td>\n",
       "      <td>3.0</td>\n",
       "      <td>5.0</td>\n",
       "      <td>17489.0</td>\n",
       "      <td>28812.0</td>\n",
       "      <td>0.0</td>\n",
       "      <td>0.0</td>\n",
       "      <td>1.0</td>\n",
       "    </tr>\n",
       "    <tr>\n",
       "      <th>max</th>\n",
       "      <td>499989.0</td>\n",
       "      <td>2300000.0</td>\n",
       "      <td>4.856510e+11</td>\n",
       "      <td>5268208.0</td>\n",
       "      <td>42.0</td>\n",
       "      <td>706.0</td>\n",
       "      <td>26887935.0</td>\n",
       "      <td>15009404.0</td>\n",
       "      <td>5035143.0</td>\n",
       "      <td>10176460.0</td>\n",
       "      <td>1.0</td>\n",
       "    </tr>\n",
       "  </tbody>\n",
       "</table>\n",
       "</div>"
      ],
      "text/plain": [
       "       OpportunityId   Employee  AnnualRevenue  SoftwareAmount     Push  Tickets_6Mo  TotalClosedLostAmount_24Mo  TotalClosedWonAmount_24Mo  TotalClosedWonAmount_6Mo  TotalClosedLostAmount_6Mo  \\\n",
       "count        89059.0    89059.0   8.905900e+04         89059.0  89059.0      89059.0                     89059.0                    89059.0                   89059.0                    89059.0   \n",
       "mean        250288.0     3855.0   1.602171e+09         31120.0      2.0          7.0                     61131.0                    73950.0                   18440.0                    18548.0   \n",
       "std         144587.0    24897.0   1.051139e+10         97459.0      3.0         21.0                    394454.0                   357902.0                  109840.0                   141597.0   \n",
       "min             12.0        0.0  -6.741528e+07        -88824.0      0.0          0.0                         0.0                        0.0                       0.0                        0.0   \n",
       "25%         125116.0        0.0   0.000000e+00          1762.0      0.0          0.0                         0.0                        0.0                       0.0                        0.0   \n",
       "50%         250410.0      100.0   1.390000e+07          8632.0      1.0          0.0                         0.0                        0.0                       0.0                        0.0   \n",
       "75%         376403.0      993.0   2.440000e+08         26000.0      3.0          5.0                     17489.0                    28812.0                       0.0                        0.0   \n",
       "max         499989.0  2300000.0   4.856510e+11       5268208.0     42.0        706.0                  26887935.0                 15009404.0                 5035143.0                 10176460.0   \n",
       "\n",
       "       WinRate_24Mo  \n",
       "count       89059.0  \n",
       "mean            0.0  \n",
       "std             0.0  \n",
       "min             0.0  \n",
       "25%             0.0  \n",
       "50%             0.0  \n",
       "75%             1.0  \n",
       "max             1.0  "
      ]
     },
     "execution_count": 10,
     "metadata": {},
     "output_type": "execute_result"
    }
   ],
   "source": [
    "data.describe().round()"
   ]
  },
  {
   "cell_type": "code",
   "execution_count": 12,
   "metadata": {},
   "outputs": [
    {
     "data": {
      "text/plain": [
       "Segment\n",
       "Enterprise          1346.0\n",
       "Large Enterprise     390.0\n",
       "Mid-Market           226.0\n",
       "No Segment             0.0\n",
       "SMB                   15.0\n",
       "Name: Employee, dtype: float64"
      ]
     },
     "execution_count": 12,
     "metadata": {},
     "output_type": "execute_result"
    }
   ],
   "source": [
    "#impute employee and annual revenue using segment\n",
    "data.Employee.groupby(data.Segment).median().round()"
   ]
  },
  {
   "cell_type": "code",
   "execution_count": 13,
   "metadata": {},
   "outputs": [
    {
     "data": {
      "text/plain": [
       "Segment\n",
       "Enterprise          157368000.0\n",
       "Large Enterprise    141826499.0\n",
       "Mid-Market           30000000.0\n",
       "No Segment                  0.0\n",
       "SMB                   1099220.0\n",
       "Name: AnnualRevenue, dtype: float64"
      ]
     },
     "execution_count": 13,
     "metadata": {},
     "output_type": "execute_result"
    }
   ],
   "source": [
    "data.AnnualRevenue.groupby(data.Segment).median().round()"
   ]
  },
  {
   "cell_type": "code",
   "execution_count": 19,
   "metadata": {},
   "outputs": [],
   "source": [
    "data['Employee_imp'] = np.where((data['Employee'] == 0) & (data['Segment'] == 'SMB'), 20,\n",
    "                                np.where((data['Employee'] == 0) & (data['Segment'] == 'Mid-Market'), 250,\n",
    "                                         np.where((data['Employee'] == 0) & (data['Segment'] == 'Large Enterprise'), 500,\n",
    "                                                  np.where((data['Employee'] == 0) & (data['Segment'] == 'Enterprise'), 1400,\n",
    "                                                           np.where((data['Employee'] == 0) & (data['Segment'] == 'No Segment'), 140, data['Employee'])))))\n",
    "data['Theater'] = np.where((data['Theater'] == 'GSI') | (data['Theater'] == 'No Reporting Level'), 'Americas', data['Theater'])\n",
    "data['HasClosedWon_6Mo'] = np.where(data['TotalClosedWonAmount_6Mo'] > 0, 1, 0)\n",
    "data['HasTickets_6Mo'] = np.where(data['Tickets_6Mo'] > 0, 1, 0)\n",
    "data['DealSize_new'] = np.where(data['SoftwareAmount'] < 50000, 'Under$50K', 'Over$50K')"
   ]
  },
  {
   "cell_type": "code",
   "execution_count": 20,
   "metadata": {},
   "outputs": [
    {
     "name": "stdout",
     "output_type": "stream",
     "text": [
      " \n",
      "---- Theater ---\n",
      "Americas    0.417049\n",
      "EMEA        0.369295\n",
      "APAC        0.213656\n",
      "Name: Theater, dtype: float64\n",
      "\n",
      " \n",
      "---- Direct ---\n",
      "N    0.838006\n",
      "Y    0.161994\n",
      "Name: Direct, dtype: float64\n",
      "\n",
      " \n",
      "---- MQL ---\n",
      "Sales Rep    0.460414\n",
      "Channel      0.419014\n",
      "Marketing    0.120561\n",
      "Other        0.000011\n",
      "Name: MQL, dtype: float64\n",
      "\n",
      " \n",
      "---- NewOrExisting ---\n",
      "Existing    0.567568\n",
      "New         0.432432\n",
      "Name: NewOrExisting, dtype: float64\n",
      "\n",
      " \n",
      "---- HasClosedWon_6Mo ---\n",
      "0    0.789802\n",
      "1    0.210198\n",
      "Name: HasClosedWon_6Mo, dtype: float64\n",
      "\n",
      " \n",
      "---- DealSize_new ---\n",
      "Under$50K    0.850908\n",
      "Over$50K     0.149092\n",
      "Name: DealSize_new, dtype: float64\n",
      "\n",
      " \n",
      "---- HasTickets_6Mo ---\n",
      "0    0.592304\n",
      "1    0.407696\n",
      "Name: HasTickets_6Mo, dtype: float64\n",
      "\n"
     ]
    }
   ],
   "source": [
    "cat = ['NewOrExisting', 'Theater', 'MQL', 'HasClosedWon_6Mo', 'HasTickets_6Mo', 'Direct', 'DealSize_new']\n",
    "for col in data.columns:\n",
    "  if col in cat:\n",
    "    print(\" \")\n",
    "    print(\"---- %s ---\" % col)\n",
    "    print(data[col].value_counts(normalize=True))\n",
    "    print()\n",
    "  else:\n",
    "    pass"
   ]
  },
  {
   "cell_type": "code",
   "execution_count": 21,
   "metadata": {},
   "outputs": [],
   "source": [
    "selectedcols = ['HasClosedWon_6Mo', 'HasTickets_6Mo', 'WinRate_24Mo', 'Theater', 'MQL', 'Employee_imp', 'Push', 'Direct', 'DealSize_new']\n",
    "selected_data = data[selectedcols]"
   ]
  },
  {
   "cell_type": "code",
   "execution_count": 22,
   "metadata": {},
   "outputs": [
    {
     "data": {
      "text/html": [
       "<div>\n",
       "<style scoped>\n",
       "    .dataframe tbody tr th:only-of-type {\n",
       "        vertical-align: middle;\n",
       "    }\n",
       "\n",
       "    .dataframe tbody tr th {\n",
       "        vertical-align: top;\n",
       "    }\n",
       "\n",
       "    .dataframe thead th {\n",
       "        text-align: right;\n",
       "    }\n",
       "</style>\n",
       "<table border=\"1\" class=\"dataframe\">\n",
       "  <thead>\n",
       "    <tr style=\"text-align: right;\">\n",
       "      <th></th>\n",
       "      <th>HasClosedWon_6Mo</th>\n",
       "      <th>HasTickets_6Mo</th>\n",
       "      <th>WinRate_24Mo</th>\n",
       "      <th>Theater</th>\n",
       "      <th>MQL</th>\n",
       "      <th>Employee_imp</th>\n",
       "      <th>Push</th>\n",
       "      <th>Direct</th>\n",
       "      <th>DealSize_new</th>\n",
       "    </tr>\n",
       "  </thead>\n",
       "  <tbody>\n",
       "    <tr>\n",
       "      <th>0</th>\n",
       "      <td>1</td>\n",
       "      <td>0</td>\n",
       "      <td>0.92</td>\n",
       "      <td>EMEA</td>\n",
       "      <td>Channel</td>\n",
       "      <td>40</td>\n",
       "      <td>1</td>\n",
       "      <td>N</td>\n",
       "      <td>Under$50K</td>\n",
       "    </tr>\n",
       "    <tr>\n",
       "      <th>1</th>\n",
       "      <td>1</td>\n",
       "      <td>0</td>\n",
       "      <td>0.92</td>\n",
       "      <td>EMEA</td>\n",
       "      <td>Channel</td>\n",
       "      <td>40</td>\n",
       "      <td>2</td>\n",
       "      <td>N</td>\n",
       "      <td>Under$50K</td>\n",
       "    </tr>\n",
       "    <tr>\n",
       "      <th>2</th>\n",
       "      <td>1</td>\n",
       "      <td>0</td>\n",
       "      <td>0.96</td>\n",
       "      <td>EMEA</td>\n",
       "      <td>Channel</td>\n",
       "      <td>40</td>\n",
       "      <td>1</td>\n",
       "      <td>N</td>\n",
       "      <td>Under$50K</td>\n",
       "    </tr>\n",
       "  </tbody>\n",
       "</table>\n",
       "</div>"
      ],
      "text/plain": [
       "   HasClosedWon_6Mo  HasTickets_6Mo  WinRate_24Mo Theater      MQL  Employee_imp  Push Direct DealSize_new\n",
       "0                 1               0          0.92    EMEA  Channel            40     1      N    Under$50K\n",
       "1                 1               0          0.92    EMEA  Channel            40     2      N    Under$50K\n",
       "2                 1               0          0.96    EMEA  Channel            40     1      N    Under$50K"
      ]
     },
     "execution_count": 22,
     "metadata": {},
     "output_type": "execute_result"
    }
   ],
   "source": [
    "selected_data.head(n=3)"
   ]
  },
  {
   "cell_type": "code",
   "execution_count": 23,
   "metadata": {},
   "outputs": [
    {
     "data": {
      "text/plain": [
       "(89059, 16)"
      ]
     },
     "execution_count": 23,
     "metadata": {},
     "output_type": "execute_result"
    }
   ],
   "source": [
    "selected_data = pd.get_dummies(selected_data, columns = ['Theater', 'MQL', 'DealSize_new', 'Direct'])\n",
    "selected_data.shape"
   ]
  },
  {
   "cell_type": "code",
   "execution_count": 26,
   "metadata": {},
   "outputs": [],
   "source": [
    "#scale the data so the variance across the different variables are equal\n",
    "mms = MinMaxScaler()\n",
    "mms.fit(selected_data)\n",
    "data_tr = mms.transform(selected_data)"
   ]
  },
  {
   "cell_type": "code",
   "execution_count": 27,
   "metadata": {},
   "outputs": [
    {
     "data": {
      "text/plain": [
       "array([[ 2.64678468e-01, -5.49988667e-01,  9.56196515e-01, ...,\n",
       "         2.40636179e-13,  1.18363221e-15,  4.88003644e-16],\n",
       "       [ 2.64973328e-01, -5.50018532e-01,  9.55545256e-01, ...,\n",
       "         5.54794578e-14,  2.53708880e-16,  1.68967861e-17],\n",
       "       [ 2.55710150e-01, -5.43924439e-01,  9.74561589e-01, ...,\n",
       "         2.12127812e-13, -7.64063421e-16, -3.15743505e-16],\n",
       "       ...,\n",
       "       [ 6.57363688e-01, -8.51892648e-01,  1.43477011e-01, ...,\n",
       "        -3.71795410e-17, -9.34376719e-18, -2.73096259e-17],\n",
       "       [-9.61578642e-01, -3.90706836e-01,  6.61239846e-01, ...,\n",
       "        -2.36689154e-17, -1.55015101e-17, -2.92947145e-17],\n",
       "       [-8.49769537e-01, -4.66479821e-01,  4.32327688e-01, ...,\n",
       "         1.02754132e-16, -2.69678721e-17, -2.47680967e-17]])"
      ]
     },
     "execution_count": 27,
     "metadata": {},
     "output_type": "execute_result"
    }
   ],
   "source": [
    "#PCA\n",
    "pca_mod = PCA()\n",
    "pca_mod.fit_transform(data_tr)"
   ]
  },
  {
   "cell_type": "code",
   "execution_count": 28,
   "metadata": {},
   "outputs": [
    {
     "data": {
      "text/plain": [
       "<Figure size 432x288 with 0 Axes>"
      ]
     },
     "metadata": {},
     "output_type": "display_data"
    },
    {
     "data": {
      "image/png": "[encoded data removed]",
      "text/plain": [
       "<Figure size 504x360 with 1 Axes>"
      ]
     },
     "metadata": {
      "needs_background": "light"
     },
     "output_type": "display_data"
    }
   ],
   "source": [
    "plt.clf()\n",
    "plt.figure(figsize=(7,5))\n",
    "plt.plot(np.cumsum(pca_mod.explained_variance_ratio_))\n",
    "plt.xlabel('number of components')\n",
    "plt.ylabel('cumulative explained variance');\n",
    "plt.show()"
   ]
  },
  {
   "cell_type": "code",
   "execution_count": 29,
   "metadata": {},
   "outputs": [],
   "source": [
    "pc = PCA(n_components=5)\n",
    "reduced_data = pc.fit_transform(data_tr)"
   ]
  },
  {
   "cell_type": "code",
   "execution_count": 30,
   "metadata": {},
   "outputs": [
    {
     "data": {
      "image/png": "[encoded data removed]",
      "text/plain": [
       "<Figure size 504x360 with 1 Axes>"
      ]
     },
     "metadata": {
      "needs_background": "light"
     },
     "output_type": "display_data"
    }
   ],
   "source": [
    "# The elbow method : the sum of squares at each number of clusters is calculated and graphed, and the user looks for a change of slope from steep to shallow (an elbow) to determine the optimal number of clusters\n",
    "SSE = []\n",
    "for cluster in range(1,20):\n",
    "    kmeans = KMeans(n_jobs = -1, n_clusters = cluster)\n",
    "    kmeans.fit(reduced_data)\n",
    "    SSE.append(kmeans.inertia_) #within cluster sum of squares\n",
    "\n",
    "# converting the results into a dataframe and plotting them\n",
    "frame = pd.DataFrame({'Cluster':range(1,20), 'SSE':SSE})\n",
    "plt.figure(figsize=(7,5))\n",
    "plt.plot(frame['Cluster'], frame['SSE'], marker='o')\n",
    "plt.xlabel('Number of clusters')\n",
    "plt.ylabel('Inertia')\n",
    "plt.grid()\n",
    "plt.show()"
   ]
  },
  {
   "cell_type": "code",
   "execution_count": 31,
   "metadata": {},
   "outputs": [
    {
     "data": {
      "text/plain": [
       "2    0.195545\n",
       "4    0.171336\n",
       "0    0.156671\n",
       "1    0.147902\n",
       "5    0.146510\n",
       "6    0.109242\n",
       "3    0.072794\n",
       "Name: clusters, dtype: float64"
      ]
     },
     "execution_count": 31,
     "metadata": {},
     "output_type": "execute_result"
    }
   ],
   "source": [
    "#Cluster the data\n",
    "kmeans = KMeans(n_clusters=7, random_state=0).fit(reduced_data)\n",
    "\n",
    "#Glue back to original data\n",
    "data['clusters'] = kmeans.labels_\n",
    "data.clusters.value_counts(normalize=True)"
   ]
  },
  {
   "cell_type": "code",
   "execution_count": 32,
   "metadata": {},
   "outputs": [
    {
     "data": {
      "text/html": [
       "<div>\n",
       "<style scoped>\n",
       "    .dataframe tbody tr th:only-of-type {\n",
       "        vertical-align: middle;\n",
       "    }\n",
       "\n",
       "    .dataframe tbody tr th {\n",
       "        vertical-align: top;\n",
       "    }\n",
       "\n",
       "    .dataframe thead th {\n",
       "        text-align: right;\n",
       "    }\n",
       "</style>\n",
       "<table border=\"1\" class=\"dataframe\">\n",
       "  <thead>\n",
       "    <tr style=\"text-align: right;\">\n",
       "      <th></th>\n",
       "      <th>OpportunityId</th>\n",
       "      <th>Employee</th>\n",
       "      <th>AnnualRevenue</th>\n",
       "      <th>SoftwareAmount</th>\n",
       "      <th>Push</th>\n",
       "      <th>Tickets_6Mo</th>\n",
       "      <th>TotalClosedLostAmount_24Mo</th>\n",
       "      <th>TotalClosedWonAmount_24Mo</th>\n",
       "      <th>TotalClosedWonAmount_6Mo</th>\n",
       "      <th>TotalClosedLostAmount_6Mo</th>\n",
       "      <th>WinRate_24Mo</th>\n",
       "      <th>Employee_imp</th>\n",
       "      <th>HasClosedWon_6Mo</th>\n",
       "      <th>HasTickets_6Mo</th>\n",
       "      <th>clusters</th>\n",
       "    </tr>\n",
       "    <tr>\n",
       "      <th>clusters</th>\n",
       "      <th></th>\n",
       "      <th></th>\n",
       "      <th></th>\n",
       "      <th></th>\n",
       "      <th></th>\n",
       "      <th></th>\n",
       "      <th></th>\n",
       "      <th></th>\n",
       "      <th></th>\n",
       "      <th></th>\n",
       "      <th></th>\n",
       "      <th></th>\n",
       "      <th></th>\n",
       "      <th></th>\n",
       "      <th></th>\n",
       "    </tr>\n",
       "  </thead>\n",
       "  <tbody>\n",
       "    <tr>\n",
       "      <th>0</th>\n",
       "      <td>251181.58</td>\n",
       "      <td>3649.73</td>\n",
       "      <td>1.673455e+09</td>\n",
       "      <td>9567.48</td>\n",
       "      <td>1.82</td>\n",
       "      <td>14.53</td>\n",
       "      <td>93727.20</td>\n",
       "      <td>128079.31</td>\n",
       "      <td>30566.20</td>\n",
       "      <td>28909.41</td>\n",
       "      <td>0.41</td>\n",
       "      <td>3745.75</td>\n",
       "      <td>0.30</td>\n",
       "      <td>0.70</td>\n",
       "      <td>0.0</td>\n",
       "    </tr>\n",
       "    <tr>\n",
       "      <th>1</th>\n",
       "      <td>249035.58</td>\n",
       "      <td>2019.20</td>\n",
       "      <td>8.637249e+08</td>\n",
       "      <td>22546.42</td>\n",
       "      <td>2.56</td>\n",
       "      <td>1.78</td>\n",
       "      <td>15714.98</td>\n",
       "      <td>34534.37</td>\n",
       "      <td>9668.68</td>\n",
       "      <td>4652.64</td>\n",
       "      <td>0.27</td>\n",
       "      <td>2110.74</td>\n",
       "      <td>0.16</td>\n",
       "      <td>0.22</td>\n",
       "      <td>1.0</td>\n",
       "    </tr>\n",
       "    <tr>\n",
       "      <th>2</th>\n",
       "      <td>250778.44</td>\n",
       "      <td>2232.32</td>\n",
       "      <td>1.075858e+09</td>\n",
       "      <td>8069.36</td>\n",
       "      <td>1.68</td>\n",
       "      <td>3.91</td>\n",
       "      <td>26032.22</td>\n",
       "      <td>55621.39</td>\n",
       "      <td>13298.03</td>\n",
       "      <td>8080.43</td>\n",
       "      <td>0.41</td>\n",
       "      <td>2333.72</td>\n",
       "      <td>0.23</td>\n",
       "      <td>0.37</td>\n",
       "      <td>2.0</td>\n",
       "    </tr>\n",
       "    <tr>\n",
       "      <th>3</th>\n",
       "      <td>249743.42</td>\n",
       "      <td>8010.30</td>\n",
       "      <td>3.291697e+09</td>\n",
       "      <td>13875.28</td>\n",
       "      <td>1.25</td>\n",
       "      <td>18.96</td>\n",
       "      <td>125884.55</td>\n",
       "      <td>162376.12</td>\n",
       "      <td>49324.12</td>\n",
       "      <td>39265.76</td>\n",
       "      <td>0.76</td>\n",
       "      <td>8154.26</td>\n",
       "      <td>0.61</td>\n",
       "      <td>0.85</td>\n",
       "      <td>3.0</td>\n",
       "    </tr>\n",
       "    <tr>\n",
       "      <th>4</th>\n",
       "      <td>249935.12</td>\n",
       "      <td>2679.90</td>\n",
       "      <td>9.198147e+08</td>\n",
       "      <td>24742.72</td>\n",
       "      <td>2.34</td>\n",
       "      <td>7.40</td>\n",
       "      <td>54707.59</td>\n",
       "      <td>51209.17</td>\n",
       "      <td>13451.67</td>\n",
       "      <td>16856.00</td>\n",
       "      <td>0.28</td>\n",
       "      <td>2771.59</td>\n",
       "      <td>0.19</td>\n",
       "      <td>0.44</td>\n",
       "      <td>4.0</td>\n",
       "    </tr>\n",
       "    <tr>\n",
       "      <th>5</th>\n",
       "      <td>249494.97</td>\n",
       "      <td>3428.65</td>\n",
       "      <td>8.372378e+08</td>\n",
       "      <td>13733.95</td>\n",
       "      <td>2.54</td>\n",
       "      <td>0.26</td>\n",
       "      <td>10270.90</td>\n",
       "      <td>1170.69</td>\n",
       "      <td>49.55</td>\n",
       "      <td>3550.96</td>\n",
       "      <td>0.04</td>\n",
       "      <td>3543.58</td>\n",
       "      <td>0.00</td>\n",
       "      <td>0.04</td>\n",
       "      <td>5.0</td>\n",
       "    </tr>\n",
       "    <tr>\n",
       "      <th>6</th>\n",
       "      <td>251806.89</td>\n",
       "      <td>9187.11</td>\n",
       "      <td>4.412084e+09</td>\n",
       "      <td>159706.68</td>\n",
       "      <td>3.68</td>\n",
       "      <td>12.03</td>\n",
       "      <td>173831.87</td>\n",
       "      <td>156844.81</td>\n",
       "      <td>34037.77</td>\n",
       "      <td>50203.93</td>\n",
       "      <td>0.26</td>\n",
       "      <td>9317.35</td>\n",
       "      <td>0.17</td>\n",
       "      <td>0.45</td>\n",
       "      <td>6.0</td>\n",
       "    </tr>\n",
       "  </tbody>\n",
       "</table>\n",
       "</div>"
      ],
      "text/plain": [
       "          OpportunityId  Employee  AnnualRevenue  SoftwareAmount  Push  Tickets_6Mo  TotalClosedLostAmount_24Mo  TotalClosedWonAmount_24Mo  TotalClosedWonAmount_6Mo  TotalClosedLostAmount_6Mo  \\\n",
       "clusters                                                                                                                                                                                          \n",
       "0             251181.58   3649.73   1.673455e+09         9567.48  1.82        14.53                    93727.20                  128079.31                  30566.20                   28909.41   \n",
       "1             249035.58   2019.20   8.637249e+08        22546.42  2.56         1.78                    15714.98                   34534.37                   9668.68                    4652.64   \n",
       "2             250778.44   2232.32   1.075858e+09         8069.36  1.68         3.91                    26032.22                   55621.39                  13298.03                    8080.43   \n",
       "3             249743.42   8010.30   3.291697e+09        13875.28  1.25        18.96                   125884.55                  162376.12                  49324.12                   39265.76   \n",
       "4             249935.12   2679.90   9.198147e+08        24742.72  2.34         7.40                    54707.59                   51209.17                  13451.67                   16856.00   \n",
       "5             249494.97   3428.65   8.372378e+08        13733.95  2.54         0.26                    10270.90                    1170.69                     49.55                    3550.96   \n",
       "6             251806.89   9187.11   4.412084e+09       159706.68  3.68        12.03                   173831.87                  156844.81                  34037.77                   50203.93   \n",
       "\n",
       "          WinRate_24Mo  Employee_imp  HasClosedWon_6Mo  HasTickets_6Mo  clusters  \n",
       "clusters                                                                          \n",
       "0                 0.41       3745.75              0.30            0.70       0.0  \n",
       "1                 0.27       2110.74              0.16            0.22       1.0  \n",
       "2                 0.41       2333.72              0.23            0.37       2.0  \n",
       "3                 0.76       8154.26              0.61            0.85       3.0  \n",
       "4                 0.28       2771.59              0.19            0.44       4.0  \n",
       "5                 0.04       3543.58              0.00            0.04       5.0  \n",
       "6                 0.26       9317.35              0.17            0.45       6.0  "
      ]
     },
     "execution_count": 32,
     "metadata": {},
     "output_type": "execute_result"
    }
   ],
   "source": [
    "data.groupby(data.clusters).mean().round(2)"
   ]
  },
  {
   "cell_type": "code",
   "execution_count": 33,
   "metadata": {},
   "outputs": [
    {
     "data": {
      "image/png": "[encoded data removed]",
      "text/plain": [
       "<Figure size 407.375x360 with 1 Axes>"
      ]
     },
     "metadata": {
      "needs_background": "light"
     },
     "output_type": "display_data"
    },
    {
     "data": {
      "text/plain": [
       "None"
      ]
     },
     "metadata": {},
     "output_type": "display_data"
    }
   ],
   "source": [
    "#visualize results in 2D\n",
    "twod_pca = PCA(n_components=2).fit_transform(data_tr)\n",
    "results_2d_pca = pd.DataFrame(twod_pca,columns=['pca1','pca2'])\n",
    "results_2d_pca['clusters'] = kmeans.labels_\n",
    "sns.lmplot(x= 'pca1', y= 'pca2', hue= 'clusters', data=results_2d_pca, fit_reg=False)\n",
    "plt.title('K-means Clustering with 2 dimensions')\n",
    "display(plt.show())"
   ]
  },
  {
   "cell_type": "code",
   "execution_count": 34,
   "metadata": {},
   "outputs": [
    {
     "name": "stdout",
     "output_type": "stream",
     "text": [
      "Direct        N     Y\n",
      "clusters             \n",
      "0         100.0   0.0\n",
      "1          66.0  34.0\n",
      "2         100.0   0.0\n",
      "3          99.0   1.0\n",
      "4          35.0  65.0\n",
      "5         100.0   0.0\n",
      "6         100.0   0.0\n",
      "\n",
      "NewOrExisting  Existing   New\n",
      "clusters                     \n",
      "0                  80.0  20.0\n",
      "1                  42.0  58.0\n",
      "2                  67.0  33.0\n",
      "3                  99.0   1.0\n",
      "4                  54.0  46.0\n",
      "5                  18.0  82.0\n",
      "6                  53.0  47.0\n",
      "\n",
      "HasTickets_6Mo     0     1\n",
      "clusters                  \n",
      "0               30.0  70.0\n",
      "1               78.0  22.0\n",
      "2               63.0  37.0\n",
      "3               15.0  85.0\n",
      "4               56.0  44.0\n",
      "5               96.0   4.0\n",
      "6               55.0  45.0\n",
      "\n",
      "HasClosedWon_6Mo      0     1\n",
      "clusters                     \n",
      "0                  70.0  30.0\n",
      "1                  84.0  16.0\n",
      "2                  77.0  23.0\n",
      "3                  39.0  61.0\n",
      "4                  81.0  19.0\n",
      "5                 100.0   0.0\n",
      "6                  83.0  17.0\n",
      "\n",
      "Segment   Enterprise  Large Enterprise  Mid-Market  No Segment   SMB\n",
      "clusters                                                            \n",
      "0               13.0              34.0        25.0         5.0  23.0\n",
      "1               12.0              20.0        28.0        17.0  23.0\n",
      "2               12.0              24.0        26.0        17.0  22.0\n",
      "3               15.0              46.0        16.0        12.0  12.0\n",
      "4               15.0              27.0        28.0         9.0  20.0\n",
      "5               13.0              25.0        22.0        21.0  19.0\n",
      "6               18.0              52.0        14.0         6.0  11.0\n",
      "\n",
      "Theater    APAC  Americas   EMEA\n",
      "clusters                        \n",
      "0           0.0     100.0    0.0\n",
      "1           0.0       0.0  100.0\n",
      "2           0.0       0.0  100.0\n",
      "3         100.0       0.0    0.0\n",
      "4          10.0      90.0    0.0\n",
      "5          80.0      20.0    0.0\n",
      "6           6.0      70.0   24.0\n",
      "\n",
      "MQL       Channel  Marketing  Other  Sales Rep\n",
      "clusters                                      \n",
      "0             0.0        5.0    0.0       95.0\n",
      "1           100.0        0.0    0.0        0.0\n",
      "2             0.0       15.0    0.0       85.0\n",
      "3            30.0        6.0    0.0       64.0\n",
      "4           100.0        0.0    0.0        0.0\n",
      "5            36.0       43.0    0.0       21.0\n",
      "6            24.0       13.0    0.0       63.0\n",
      "\n",
      "DealSize_new  Over$50K  Under$50K\n",
      "clusters                         \n",
      "0                  0.0      100.0\n",
      "1                  9.0       91.0\n",
      "2                  0.0      100.0\n",
      "3                  5.0       95.0\n",
      "4                 10.0       90.0\n",
      "5                  4.0       96.0\n",
      "6                100.0        0.0\n",
      "\n"
     ]
    }
   ],
   "source": [
    "cat = ['Direct', 'NewOrExisting', 'HasTickets_6Mo', 'HasClosedWon_6Mo', 'Segment', 'Theater', 'MQL', 'DealSize_new']\n",
    "for col in cat:\n",
    "  print(pd.crosstab(data.clusters, data[col], normalize='index').round(2)*100)\n",
    "  print()"
   ]
  },
  {
   "cell_type": "markdown",
   "metadata": {},
   "source": [
    "Based on the analysis above, we can segmnent the customer base into seven groups based which are quite distinct. There is a cluster for larger deal sizes (cluster 6) which are most likely low velocity deals. There is a cluster for new customers which have deals sourced by marketing, primarily in APAC (cluster 5). This group has the lowest historical win rate. There is a segment for partner deals in Americas (cluster 0) which are likely to be high velocity deals. Cluster 1 and 2 are EMEA customers - one is primarity partner deals and one is direct deals. Cluster 4 is partner deals in Americas. Cluster 3 is existing customers that have the highest historical win rate.\n",
    "\n",
    "There is some overlap between the clusters which could be improved with better data treatment or different clustering algorithm."
   ]
  }
 ],
 "metadata": {
  "kernelspec": {
   "display_name": "Python 3",
   "language": "python",
   "name": "python3"
  },
  "language_info": {
   "codemirror_mode": {
    "name": "ipython",
    "version": 3
   },
   "file_extension": ".py",
   "mimetype": "text/x-python",
   "name": "python",
   "nbconvert_exporter": "python",
   "pygments_lexer": "ipython3",
   "version": "3.7.0"
  }
 },
 "nbformat": 4,
 "nbformat_minor": 2
}
