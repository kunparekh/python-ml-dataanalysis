{
 "cells": [
  {
   "cell_type": "markdown",
   "metadata": {},
   "source": [
    "# Patient Adherence\n",
    "Author: Kunehi Parekh"
   ]
  },
  {
   "cell_type": "code",
   "execution_count": 1,
   "metadata": {},
   "outputs": [],
   "source": [
    "#import libraries\n",
    "import pandas as pd\n",
    "import numpy as np\n",
    "import seaborn as sns\n",
    "import matplotlib.pyplot as plt\n",
    "%matplotlib inline\n",
    "import warnings\n",
    "warnings.filterwarnings('ignore')\n",
    "from pandas import pivot_table\n",
    "from datetime import datetime\n",
    "import calendar"
   ]
  },
  {
   "cell_type": "code",
   "execution_count": 3,
   "metadata": {},
   "outputs": [
    {
     "data": {
      "text/html": [
       "<div>\n",
       "<style scoped>\n",
       "    .dataframe tbody tr th:only-of-type {\n",
       "        vertical-align: middle;\n",
       "    }\n",
       "\n",
       "    .dataframe tbody tr th {\n",
       "        vertical-align: top;\n",
       "    }\n",
       "\n",
       "    .dataframe thead th {\n",
       "        text-align: right;\n",
       "    }\n",
       "</style>\n",
       "<table border=\"1\" class=\"dataframe\">\n",
       "  <thead>\n",
       "    <tr style=\"text-align: right;\">\n",
       "      <th></th>\n",
       "      <th>Patient ID</th>\n",
       "      <th>Enroll Date</th>\n",
       "      <th>Activation Time</th>\n",
       "      <th>End Date</th>\n",
       "      <th>Date Recorded</th>\n",
       "      <th>Time Recorded</th>\n",
       "      <th>Deadline</th>\n",
       "      <th>Outcome</th>\n",
       "    </tr>\n",
       "  </thead>\n",
       "  <tbody>\n",
       "    <tr>\n",
       "      <th>0</th>\n",
       "      <td>7953</td>\n",
       "      <td>7/17/2017</td>\n",
       "      <td>7/19/2017 18:49</td>\n",
       "      <td>NaN</td>\n",
       "      <td>7/19/2017</td>\n",
       "      <td>0 days 18:49:07.000000000</td>\n",
       "      <td>0 days 01:00:00.000000000</td>\n",
       "      <td>LATE</td>\n",
       "    </tr>\n",
       "    <tr>\n",
       "      <th>1</th>\n",
       "      <td>7953</td>\n",
       "      <td>7/17/2017</td>\n",
       "      <td>7/19/2017 18:49</td>\n",
       "      <td>NaN</td>\n",
       "      <td>7/20/2017</td>\n",
       "      <td>0 days 01:00:48.000000000</td>\n",
       "      <td>0 days 01:00:00.000000000</td>\n",
       "      <td>ONTIME</td>\n",
       "    </tr>\n",
       "    <tr>\n",
       "      <th>2</th>\n",
       "      <td>7953</td>\n",
       "      <td>7/17/2017</td>\n",
       "      <td>7/19/2017 18:49</td>\n",
       "      <td>NaN</td>\n",
       "      <td>7/21/2017</td>\n",
       "      <td>0 days 01:01:15.000000000</td>\n",
       "      <td>0 days 01:00:00.000000000</td>\n",
       "      <td>ONTIME</td>\n",
       "    </tr>\n",
       "    <tr>\n",
       "      <th>3</th>\n",
       "      <td>7953</td>\n",
       "      <td>7/17/2017</td>\n",
       "      <td>7/19/2017 18:49</td>\n",
       "      <td>NaN</td>\n",
       "      <td>7/22/2017</td>\n",
       "      <td>0 days 01:01:09.000000000</td>\n",
       "      <td>0 days 01:00:00.000000000</td>\n",
       "      <td>ONTIME</td>\n",
       "    </tr>\n",
       "    <tr>\n",
       "      <th>4</th>\n",
       "      <td>7953</td>\n",
       "      <td>7/17/2017</td>\n",
       "      <td>7/19/2017 18:49</td>\n",
       "      <td>NaN</td>\n",
       "      <td>7/23/2017</td>\n",
       "      <td>0 days 01:02:05.000000000</td>\n",
       "      <td>0 days 01:00:00.000000000</td>\n",
       "      <td>ONTIME</td>\n",
       "    </tr>\n",
       "  </tbody>\n",
       "</table>\n",
       "</div>"
      ],
      "text/plain": [
       "   Patient ID Enroll Date  Activation Time End Date Date Recorded  \\\n",
       "0        7953   7/17/2017  7/19/2017 18:49      NaN     7/19/2017   \n",
       "1        7953   7/17/2017  7/19/2017 18:49      NaN     7/20/2017   \n",
       "2        7953   7/17/2017  7/19/2017 18:49      NaN     7/21/2017   \n",
       "3        7953   7/17/2017  7/19/2017 18:49      NaN     7/22/2017   \n",
       "4        7953   7/17/2017  7/19/2017 18:49      NaN     7/23/2017   \n",
       "\n",
       "               Time Recorded                   Deadline Outcome  \n",
       "0  0 days 18:49:07.000000000  0 days 01:00:00.000000000    LATE  \n",
       "1  0 days 01:00:48.000000000  0 days 01:00:00.000000000  ONTIME  \n",
       "2  0 days 01:01:15.000000000  0 days 01:00:00.000000000  ONTIME  \n",
       "3  0 days 01:01:09.000000000  0 days 01:00:00.000000000  ONTIME  \n",
       "4  0 days 01:02:05.000000000  0 days 01:00:00.000000000  ONTIME  "
      ]
     },
     "execution_count": 3,
     "metadata": {},
     "output_type": "execute_result"
    }
   ],
   "source": [
    "#get dataset\n",
    "data = pd.read_csv('C:/Users/kparekh/Downloads/doses.csv')\n",
    "data.head()"
   ]
  },
  {
   "cell_type": "code",
   "execution_count": 75,
   "metadata": {},
   "outputs": [
    {
     "data": {
      "text/plain": [
       "(99670, 8)"
      ]
     },
     "execution_count": 75,
     "metadata": {},
     "output_type": "execute_result"
    }
   ],
   "source": [
    "#check shape of data\n",
    "data.shape"
   ]
  },
  {
   "cell_type": "code",
   "execution_count": 76,
   "metadata": {},
   "outputs": [
    {
     "data": {
      "text/plain": [
       "Patient ID          int64\n",
       "Enroll Date        object\n",
       "Activation Time    object\n",
       "End Date           object\n",
       "Date Recorded      object\n",
       "Time Recorded      object\n",
       "Deadline           object\n",
       "Outcome            object\n",
       "dtype: object"
      ]
     },
     "execution_count": 76,
     "metadata": {},
     "output_type": "execute_result"
    }
   ],
   "source": [
    "#check data types\n",
    "data.dtypes"
   ]
  },
  {
   "cell_type": "code",
   "execution_count": 122,
   "metadata": {},
   "outputs": [],
   "source": [
    "#clean and format data\n",
    "data['Patient ID'] = data['Patient ID'].astype(int)\n",
    "data['Enroll Date'] = pd.to_datetime(data['Enroll Date'], format='%m/%d/%Y')\n",
    "data['End Date'] = pd.to_datetime(data['End Date'], format='%m/%d/%Y')\n",
    "data = data.drop('Activation Time', 1) #inconsistent format - date or time?\n",
    "data = data.dropna(subset=['Outcome']) \n",
    "def findDay(date): \n",
    "    recorded = datetime.strptime(date, '%m/%d/%Y').weekday() \n",
    "    return (calendar.day_name[recorded])\n",
    "data['dayofweek'] = data['Date Recorded'].apply(findDay)\n",
    "data['Date Recorded'] = pd.to_datetime(data['Date Recorded'], format='%m/%d/%Y')"
   ]
  },
  {
   "cell_type": "code",
   "execution_count": 123,
   "metadata": {
    "scrolled": true
   },
   "outputs": [
    {
     "data": {
      "text/html": [
       "<div>\n",
       "<style scoped>\n",
       "    .dataframe tbody tr th:only-of-type {\n",
       "        vertical-align: middle;\n",
       "    }\n",
       "\n",
       "    .dataframe tbody tr th {\n",
       "        vertical-align: top;\n",
       "    }\n",
       "\n",
       "    .dataframe thead th {\n",
       "        text-align: right;\n",
       "    }\n",
       "</style>\n",
       "<table border=\"1\" class=\"dataframe\">\n",
       "  <thead>\n",
       "    <tr style=\"text-align: right;\">\n",
       "      <th></th>\n",
       "      <th>Patient ID</th>\n",
       "      <th>Enroll Date</th>\n",
       "      <th>End Date</th>\n",
       "      <th>Date Recorded</th>\n",
       "      <th>Time Recorded</th>\n",
       "      <th>Deadline</th>\n",
       "      <th>Outcome</th>\n",
       "      <th>dayofweek</th>\n",
       "      <th>Days_Since_Enrolled</th>\n",
       "      <th>Days_To_End</th>\n",
       "      <th>TimeRecorded_clean_hour</th>\n",
       "      <th>Deadline_clean_hour</th>\n",
       "      <th>Recorded_Minus_Deadline_Hours</th>\n",
       "    </tr>\n",
       "  </thead>\n",
       "  <tbody>\n",
       "    <tr>\n",
       "      <th>0</th>\n",
       "      <td>3972</td>\n",
       "      <td>2017-07-17</td>\n",
       "      <td>NaT</td>\n",
       "      <td>2017-07-19</td>\n",
       "      <td>0 days 18:49:07.000000000</td>\n",
       "      <td>0 days 01:00:00.000000000</td>\n",
       "      <td>LATE</td>\n",
       "      <td>Wednesday</td>\n",
       "      <td>2</td>\n",
       "      <td>NaN</td>\n",
       "      <td>18</td>\n",
       "      <td>01</td>\n",
       "      <td>-17</td>\n",
       "    </tr>\n",
       "    <tr>\n",
       "      <th>1</th>\n",
       "      <td>3972</td>\n",
       "      <td>2017-07-17</td>\n",
       "      <td>NaT</td>\n",
       "      <td>2017-07-20</td>\n",
       "      <td>0 days 01:00:48.000000000</td>\n",
       "      <td>0 days 01:00:00.000000000</td>\n",
       "      <td>ONTIME</td>\n",
       "      <td>Thursday</td>\n",
       "      <td>3</td>\n",
       "      <td>NaN</td>\n",
       "      <td>01</td>\n",
       "      <td>01</td>\n",
       "      <td>0</td>\n",
       "    </tr>\n",
       "    <tr>\n",
       "      <th>2</th>\n",
       "      <td>3972</td>\n",
       "      <td>2017-07-17</td>\n",
       "      <td>NaT</td>\n",
       "      <td>2017-07-21</td>\n",
       "      <td>0 days 01:01:15.000000000</td>\n",
       "      <td>0 days 01:00:00.000000000</td>\n",
       "      <td>ONTIME</td>\n",
       "      <td>Friday</td>\n",
       "      <td>4</td>\n",
       "      <td>NaN</td>\n",
       "      <td>01</td>\n",
       "      <td>01</td>\n",
       "      <td>0</td>\n",
       "    </tr>\n",
       "    <tr>\n",
       "      <th>3</th>\n",
       "      <td>3972</td>\n",
       "      <td>2017-07-17</td>\n",
       "      <td>NaT</td>\n",
       "      <td>2017-07-22</td>\n",
       "      <td>0 days 01:01:09.000000000</td>\n",
       "      <td>0 days 01:00:00.000000000</td>\n",
       "      <td>ONTIME</td>\n",
       "      <td>Saturday</td>\n",
       "      <td>5</td>\n",
       "      <td>NaN</td>\n",
       "      <td>01</td>\n",
       "      <td>01</td>\n",
       "      <td>0</td>\n",
       "    </tr>\n",
       "    <tr>\n",
       "      <th>4</th>\n",
       "      <td>3972</td>\n",
       "      <td>2017-07-17</td>\n",
       "      <td>NaT</td>\n",
       "      <td>2017-07-23</td>\n",
       "      <td>0 days 01:02:05.000000000</td>\n",
       "      <td>0 days 01:00:00.000000000</td>\n",
       "      <td>ONTIME</td>\n",
       "      <td>Sunday</td>\n",
       "      <td>6</td>\n",
       "      <td>NaN</td>\n",
       "      <td>01</td>\n",
       "      <td>01</td>\n",
       "      <td>0</td>\n",
       "    </tr>\n",
       "  </tbody>\n",
       "</table>\n",
       "</div>"
      ],
      "text/plain": [
       "   Patient ID Enroll Date End Date Date Recorded              Time Recorded  \\\n",
       "0        3972  2017-07-17      NaT    2017-07-19  0 days 18:49:07.000000000   \n",
       "1        3972  2017-07-17      NaT    2017-07-20  0 days 01:00:48.000000000   \n",
       "2        3972  2017-07-17      NaT    2017-07-21  0 days 01:01:15.000000000   \n",
       "3        3972  2017-07-17      NaT    2017-07-22  0 days 01:01:09.000000000   \n",
       "4        3972  2017-07-17      NaT    2017-07-23  0 days 01:02:05.000000000   \n",
       "\n",
       "                    Deadline Outcome  dayofweek  Days_Since_Enrolled  \\\n",
       "0  0 days 01:00:00.000000000    LATE  Wednesday                    2   \n",
       "1  0 days 01:00:00.000000000  ONTIME   Thursday                    3   \n",
       "2  0 days 01:00:00.000000000  ONTIME     Friday                    4   \n",
       "3  0 days 01:00:00.000000000  ONTIME   Saturday                    5   \n",
       "4  0 days 01:00:00.000000000  ONTIME     Sunday                    6   \n",
       "\n",
       "   Days_To_End TimeRecorded_clean_hour Deadline_clean_hour  \\\n",
       "0          NaN                      18                  01   \n",
       "1          NaN                      01                  01   \n",
       "2          NaN                      01                  01   \n",
       "3          NaN                      01                  01   \n",
       "4          NaN                      01                  01   \n",
       "\n",
       "   Recorded_Minus_Deadline_Hours  \n",
       "0                            -17  \n",
       "1                              0  \n",
       "2                              0  \n",
       "3                              0  \n",
       "4                              0  "
      ]
     },
     "execution_count": 123,
     "metadata": {},
     "output_type": "execute_result"
    }
   ],
   "source": [
    "#feature engineering\n",
    "data['Days_Since_Enrolled'] = (data['Date Recorded'] - data['Enroll Date']).dt.days\n",
    "data['Days_To_End'] = (data['End Date'] - data['Date Recorded']).dt.days\n",
    "data['TimeRecorded_clean_hour'] = data['Time Recorded'].str.slice(7,9)\n",
    "data['TimeRecorded_clean_hour'] = data['TimeRecorded_clean_hour'].fillna(0)\n",
    "data['Deadline_clean_hour'] = data['Deadline'].str.slice(7,9)\n",
    "data['Recorded_Minus_Deadline_Hours'] = data['Deadline_clean_hour'].astype(int) - data['TimeRecorded_clean_hour'].astype(int)\n",
    "data.head()"
   ]
  },
  {
   "cell_type": "code",
   "execution_count": 89,
   "metadata": {},
   "outputs": [
    {
     "data": {
      "text/plain": [
       "Patient ID                     0\n",
       "Enroll Date                    0\n",
       "End Date                   67085\n",
       "Date Recorded                  0\n",
       "Time Recorded                  0\n",
       "Deadline                       0\n",
       "Outcome                        0\n",
       "Days_Since_Enrolled            0\n",
       "Days_To_End                67085\n",
       "TimeRecorded_clean_hour        0\n",
       "Deadline_clean_hour            0\n",
       "dtype: int64"
      ]
     },
     "execution_count": 89,
     "metadata": {},
     "output_type": "execute_result"
    }
   ],
   "source": [
    "data.isnull().sum()"
   ]
  },
  {
   "cell_type": "code",
   "execution_count": 64,
   "metadata": {},
   "outputs": [
    {
     "data": {
      "text/plain": [
       "Patient ID                                  int32\n",
       "Enroll Date                        datetime64[ns]\n",
       "End Date                           datetime64[ns]\n",
       "Date Recorded                      datetime64[ns]\n",
       "Time Recorded                              object\n",
       "Deadline                                   object\n",
       "Outcome                                    object\n",
       "Days_Since_Enrolled                         int64\n",
       "Days_To_End                               float64\n",
       "Time_Recorded_clean                datetime64[ns]\n",
       "Deadline_clean                     datetime64[ns]\n",
       "Recorded_Minus_Deadline_Hours             float64\n",
       "Recorded_Minus_Deadline_Minutes           float64\n",
       "dtype: object"
      ]
     },
     "execution_count": 64,
     "metadata": {},
     "output_type": "execute_result"
    }
   ],
   "source": [
    "data.dtypes"
   ]
  },
  {
   "cell_type": "markdown",
   "metadata": {},
   "source": [
    "**How would you calculate patient compliance?**\n",
    "\n",
    "One way to calculate patient compliance is of the number of observations, how many did they miss? This calculation provides a good measure of the degree to which a patient correctly follows medical advice without missing dosage."
   ]
  },
  {
   "cell_type": "code",
   "execution_count": 30,
   "metadata": {},
   "outputs": [
    {
     "data": {
      "text/plain": [
       "count    303.00\n",
       "mean       0.93\n",
       "std        0.17\n",
       "min        0.00\n",
       "25%        0.96\n",
       "50%        0.99\n",
       "75%        1.00\n",
       "max        1.00\n",
       "Name: ComplianceRate, dtype: float64"
      ]
     },
     "execution_count": 30,
     "metadata": {},
     "output_type": "execute_result"
    }
   ],
   "source": [
    "missed = data[data['Outcome'] == 'MISSED']['Outcome'].groupby(data['Patient ID']).count()\n",
    "missed = missed.rename_axis('Patient ID').reset_index(name='Missed')\n",
    "total = data['Outcome'].groupby(data['Patient ID']).count()\n",
    "total = total.rename_axis('Patient ID').reset_index(name='Total')\n",
    "compliance = total.merge(missed, on='Patient ID', how='left')\n",
    "compliance['Missed'] = compliance['Missed'].fillna(0)\n",
    "compliance['ComplianceRate'] = 1 - (compliance['Missed']/compliance['Total'])\n",
    "compliance.ComplianceRate.describe().round(2)"
   ]
  },
  {
   "cell_type": "code",
   "execution_count": 36,
   "metadata": {},
   "outputs": [
    {
     "data": {
      "text/html": [
       "<div>\n",
       "<style scoped>\n",
       "    .dataframe tbody tr th:only-of-type {\n",
       "        vertical-align: middle;\n",
       "    }\n",
       "\n",
       "    .dataframe tbody tr th {\n",
       "        vertical-align: top;\n",
       "    }\n",
       "\n",
       "    .dataframe thead th {\n",
       "        text-align: right;\n",
       "    }\n",
       "</style>\n",
       "<table border=\"1\" class=\"dataframe\">\n",
       "  <thead>\n",
       "    <tr style=\"text-align: right;\">\n",
       "      <th></th>\n",
       "      <th>Patient ID</th>\n",
       "      <th>Total</th>\n",
       "      <th>Missed</th>\n",
       "      <th>ComplianceRate</th>\n",
       "    </tr>\n",
       "  </thead>\n",
       "  <tbody>\n",
       "    <tr>\n",
       "      <th>0</th>\n",
       "      <td>3972</td>\n",
       "      <td>743</td>\n",
       "      <td>59.0</td>\n",
       "      <td>0.920592</td>\n",
       "    </tr>\n",
       "    <tr>\n",
       "      <th>1</th>\n",
       "      <td>3985</td>\n",
       "      <td>735</td>\n",
       "      <td>7.0</td>\n",
       "      <td>0.990476</td>\n",
       "    </tr>\n",
       "    <tr>\n",
       "      <th>2</th>\n",
       "      <td>3986</td>\n",
       "      <td>194</td>\n",
       "      <td>3.0</td>\n",
       "      <td>0.984536</td>\n",
       "    </tr>\n",
       "    <tr>\n",
       "      <th>3</th>\n",
       "      <td>3998</td>\n",
       "      <td>161</td>\n",
       "      <td>0.0</td>\n",
       "      <td>1.000000</td>\n",
       "    </tr>\n",
       "    <tr>\n",
       "      <th>4</th>\n",
       "      <td>4023</td>\n",
       "      <td>732</td>\n",
       "      <td>38.0</td>\n",
       "      <td>0.948087</td>\n",
       "    </tr>\n",
       "  </tbody>\n",
       "</table>\n",
       "</div>"
      ],
      "text/plain": [
       "   Patient ID  Total  Missed  ComplianceRate\n",
       "0        3972    743    59.0        0.920592\n",
       "1        3985    735     7.0        0.990476\n",
       "2        3986    194     3.0        0.984536\n",
       "3        3998    161     0.0        1.000000\n",
       "4        4023    732    38.0        0.948087"
      ]
     },
     "execution_count": 36,
     "metadata": {},
     "output_type": "execute_result"
    }
   ],
   "source": [
    "compliance.head()"
   ]
  },
  {
   "cell_type": "code",
   "execution_count": 32,
   "metadata": {},
   "outputs": [
    {
     "data": {
      "text/plain": [
       "<matplotlib.axes._subplots.AxesSubplot at 0x17f337f23c8>"
      ]
     },
     "execution_count": 32,
     "metadata": {},
     "output_type": "execute_result"
    },
    {
     "data": {
      "image/png": "[encoded data removed]",
      "text/plain": [
       "<Figure size 432x288 with 1 Axes>"
      ]
     },
     "metadata": {
      "needs_background": "light"
     },
     "output_type": "display_data"
    }
   ],
   "source": [
    "compliance.ComplianceRate.hist()"
   ]
  },
  {
   "cell_type": "code",
   "execution_count": 35,
   "metadata": {},
   "outputs": [
    {
     "data": {
      "text/plain": [
       "<matplotlib.axes._subplots.AxesSubplot at 0x17f40b00160>"
      ]
     },
     "execution_count": 35,
     "metadata": {},
     "output_type": "execute_result"
    },
    {
     "data": {
      "image/png": "[encoded data removed]",
      "text/plain": [
       "<Figure size 432x288 with 1 Axes>"
      ]
     },
     "metadata": {
      "needs_background": "light"
     },
     "output_type": "display_data"
    }
   ],
   "source": [
    "compliance.ComplianceRate.plot(kind='box')"
   ]
  },
  {
   "cell_type": "markdown",
   "metadata": {},
   "source": [
    "Average compliance rate looks pretty good at 93%. From the plots above, we can see that the distribution is mostly focused in the high compliance rates. The median is 99% which means there are outliers that influence the overall average."
   ]
  },
  {
   "cell_type": "markdown",
   "metadata": {},
   "source": [
    "**What interesting correlations and trends do you see in the data relating to compliance?**"
   ]
  },
  {
   "cell_type": "code",
   "execution_count": 51,
   "metadata": {},
   "outputs": [
    {
     "data": {
      "text/plain": [
       "<matplotlib.axes._subplots.AxesSubplot at 0x17f43b585c0>"
      ]
     },
     "execution_count": 51,
     "metadata": {},
     "output_type": "execute_result"
    },
    {
     "data": {
      "image/png": "[encoded data removed]",
      "text/plain": [
       "<Figure size 432x288 with 1 Axes>"
      ]
     },
     "metadata": {
      "needs_background": "light"
     },
     "output_type": "display_data"
    }
   ],
   "source": [
    "data[data.Outcome=='MISSED'].pivot_table(values='Patient ID', index='Days_Since_Enrolled', columns='Outcome', aggfunc=lambda x: len(x.unique())).plot(kind='line')"
   ]
  },
  {
   "cell_type": "markdown",
   "metadata": {},
   "source": [
    "Most patients miss their dosage in the early days of their enrollment. Maybe they need more hand-holding (engagement) for up to the first three months or so. "
   ]
  },
  {
   "cell_type": "code",
   "execution_count": 95,
   "metadata": {},
   "outputs": [
    {
     "data": {
      "text/plain": [
       "Outcome\n",
       "EARLY   -2.0\n",
       "LATE     2.0\n",
       "Name: Recorded_Minus_Deadline_Hours, dtype: float64"
      ]
     },
     "execution_count": 95,
     "metadata": {},
     "output_type": "execute_result"
    }
   ],
   "source": [
    "data[data.Outcome.isin(['EARLY', 'LATE'])].Recorded_Minus_Deadline_Hours.groupby(data.Outcome).mean().round()"
   ]
  },
  {
   "cell_type": "markdown",
   "metadata": {},
   "source": [
    "Patients are ususally early or late by 2 hours when they are not on time."
   ]
  },
  {
   "cell_type": "code",
   "execution_count": 137,
   "metadata": {
    "scrolled": true
   },
   "outputs": [
    {
     "data": {
      "text/plain": [
       "<matplotlib.axes._subplots.AxesSubplot at 0x17f4e76d048>"
      ]
     },
     "execution_count": 137,
     "metadata": {},
     "output_type": "execute_result"
    },
    {
     "data": {
      "image/png": "[encoded data removed]",
      "text/plain": [
       "<Figure size 1080x504 with 1 Axes>"
      ]
     },
     "metadata": {
      "needs_background": "light"
     },
     "output_type": "display_data"
    }
   ],
   "source": [
    "data.pivot_table(values='Patient ID', index='Outcome', columns='dayofweek', aggfunc=lambda x: len(x.unique())).plot(kind='bar', figsize = (15,7))"
   ]
  },
  {
   "cell_type": "markdown",
   "metadata": {},
   "source": [
    "From the chart above, we can see that:\n",
    " * least number of patients are early on Sundays\n",
    " * most people are late on Mondays\n",
    " * most people missed on Saturdays\n",
    " * middle of the week is usually when patients are on time in taking their meds\n",
    "\n",
    "Poosibly send more notifications/texts in the beginning of the week and during the weekend."
   ]
  },
  {
   "cell_type": "markdown",
   "metadata": {},
   "source": [
    "**How would you approach trying to predict missed doses?**\n",
    "\n",
    "One way would be to look at their recent outcome history by calculating a running compliance rate. Over the last week or last few days, how many times have they missed? Based on this data, are there certain days of the week when they're likely to miss (i.e. weekends)? \n",
    "\n",
    "Most people miss because they forget. It would be interesting to check the correlation between the number of reminders sent and whether they took their dose. Engagement could be a good predictor.\n",
    "\n",
    "Sometimes patients just might not be feeling well or feeling demotivated to take their pills. They may be going through side effects or feeling overwhelmed to continue. These are difficult things to expect or predict. But Any sort of daily measure of how they are feeling could help determine whether they will miss their dosage. "
   ]
  },
  {
   "cell_type": "markdown",
   "metadata": {},
   "source": [
    "**How would you approach trying to predict disenrollment?**\n",
    "\n",
    "Lack of engagement could be a significant predictor of disinterest and possibly disenrollment. Are they using the bottle? Are they taking their pills on time? Are they replying acknowledging/replying to emails/texts/reminders/feedback requests? Are their survey/feedback results positive? \n",
    "\n",
    "Looking at patient's demographic attributes could also help predict disenrollment. Younger patients may shop around and switch to a competitor so the age of the patient may be a good predictor. How long the patient has been enrolled and over time how their compliance has improved/worsened can also be predictive. If they're seeing good results, they'll continue.\n",
    "\n",
    "Pricing could be a factor as well.\n",
    "\n",
    "Given these data points and a good volume of patient data, a binary classifier could be trained to target patients at risk of discontinuing."
   ]
  }
 ],
 "metadata": {
  "kernelspec": {
   "display_name": "Python 3",
   "language": "python",
   "name": "python3"
  },
  "language_info": {
   "codemirror_mode": {
    "name": "ipython",
    "version": 3
   },
   "file_extension": ".py",
   "mimetype": "text/x-python",
   "name": "python",
   "nbconvert_exporter": "python",
   "pygments_lexer": "ipython3",
   "version": "3.7.3"
  }
 },
 "nbformat": 4,
 "nbformat_minor": 2
}
